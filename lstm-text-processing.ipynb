{
 "cells": [
  {
   "cell_type": "markdown",
   "id": "85e442cc",
   "metadata": {},
   "source": [
    "# Text processing with LSTM\n",
    "\n",
    "In this notebook, we'll try to process Donald Trump speeches using a PyTorch LSTM network and the politic's speeches [dataset](https://github.com/ryanmcdermott/trump-speeches)."
   ]
  },
  {
   "cell_type": "markdown",
   "source": [
    "## Encoding characters\n",
    "\n",
    "First thing, let's prepare the `Encoder` class, which would serve as a conversion utility transforming text characters to unambiguous number representation. We will skip any characters that aren't matched by `[a-z0-9 .!?]` regex. Seeing such pattern, one might ask - _What about capital letters?_. Well, we'll convert them to their small equivalents first, skipping this step would result in inconsistent text interpretations.\n",
    "\n",
    "* The method `__init__` takes the string serving as alphabet as argument and creates character to id mappings for each character (and id to character as well).\n",
    "* The method `__call__` takes one argument, which is either a string or a `torch.Tensor`. If it's a string, it returns its numerical representation as a tensor. If it's a tensor, it works the other way around."
   ],
   "metadata": {
    "collapsed": false
   }
  },
  {
   "cell_type": "code",
   "execution_count": 1,
   "id": "17f16ae5",
   "metadata": {},
   "outputs": [],
   "source": [
    "import re\n",
    "import torch\n",
    "\n",
    "class Encoder:\n",
    "    def __init__(self, alphabet: str):\n",
    "        self.ch2id = dict()\n",
    "        self.id2ch = dict()\n",
    "        character_id = 0\n",
    "        regexp = re.compile(r'[a-z0-9 .!?]')\n",
    "\n",
    "        for character in alphabet:\n",
    "            assert re.search(regexp, character), 'Character not matched with the regex [a-z0-9 .!?]'\n",
    "            if character not in self.ch2id.keys():\n",
    "                self.ch2id[character] = character_id\n",
    "                self.id2ch[character_id] = character\n",
    "                character_id += 1\n",
    "\n",
    "        self.alphabet_len = len(self.ch2id.keys())\n",
    "\n",
    "    def __call__(self, input_text: [str, torch.Tensor]):\n",
    "        input_type = type(input_text)\n",
    "        assert input_type in (str, torch.Tensor), 'This input type is not available, please use string or torch.Tensor'\n",
    "\n",
    "        result_list = []\n",
    "\n",
    "        if input_type == str:\n",
    "            for character in input_text:\n",
    "                if ord(character) in range(ord('A'), ord('Z') + 1):\n",
    "                    character = chr(ord(character) - ord('A') + ord('a'))\n",
    "\n",
    "                if character in self.ch2id.keys():\n",
    "                    result_list.append(self.ch2id[character])\n",
    "\n",
    "            return torch.tensor(result_list)\n",
    "        else:\n",
    "            for character_id in input_text:\n",
    "                result_list.append(self.id2ch[character_id.item()])\n",
    "\n",
    "            return ''.join(result_list)"
   ]
  },
  {
   "cell_type": "markdown",
   "id": "3a819873",
   "metadata": {},
   "source": [
    "## Dataset\n",
    "\n",
    "We need a class to encapsulate our dataset, hence the implementation of `TextDataset` that derives from `torch.utlis.data.Dataset`. It wraps a text file and utilizes it for training with PyTorch.\n",
    "\n",
    "* The method `__init__` takes a path to a text file as string and an integer `l` specifying the length of one sample sequence.\n",
    "* The method `__len__` takes no arguments and returns the size of the dataset.\n",
    "* The method `__getitem__` takes an integer indexing a sample sequence and should return that sequence as a `torch.Tensor`.\n",
    "\n",
    "The way we will handle our source text is as follows: the whole file can be viewed as one long sequence. We split this sequence into samples of length `l`. These samples are then used in the training loop, more details there.\n",
    "\n",
    "One tweak worth mentioning here - I'm swapping all newline signs `\\n` for spaces and eliminating multiple whitespaces in the process."
   ]
  },
  {
   "cell_type": "code",
   "execution_count": 2,
   "id": "9df917ce",
   "metadata": {},
   "outputs": [],
   "source": [
    "import torch\n",
    "from torch.utils.data import Dataset\n",
    "\n",
    "\n",
    "class TextDataset(Dataset):\n",
    "    def __init__(self, txt_filepath: str, l: int):\n",
    "        alphabet = ''.join([chr(_) for _ in range(ord('a'), ord('z') + 1)]) + ''.join([str(_) for _ in range(10)]) + ' .?!'\n",
    "        self.encoder = Encoder(alphabet)\n",
    "\n",
    "        with open(txt_filepath, 'r', encoding='utf8') as file:\n",
    "            text = re.sub(' {2,}', ' ', file.read().replace('\\n', ' '))\n",
    "\n",
    "        encoded = self.encoder(text)\n",
    "        self.samples = torch.split(encoded, l)\n",
    "\n",
    "        if len(self.samples[-1]) < l:\n",
    "            self.samples = self.samples[:-1]\n",
    "\n",
    "        self.samples_len = len(self.samples)\n",
    "\n",
    "    def __len__(self):\n",
    "        return self.samples_len\n",
    "\n",
    "    def __getitem__(self, i) -> torch.Tensor:\n",
    "        return self.samples[i]\n"
   ]
  },
  {
   "cell_type": "markdown",
   "id": "42e5724f",
   "metadata": {},
   "source": [
    "## The Model\n",
    "\n",
    "We write a class `NextCharLSTM` that derives from `torch.nn.Module` and takes `alphabet_size`, the `embedding_dim`, and the `hidden_dim` as arguments. As mentioned earlier, it consists of a `torch.nn.Embedding` layer mapping the alphabet to embeddings, a `torch.nn.LSTM` that takes the embeddings as inputs and maps them to hidden states, and a `torch.nn.Linear` output layer that maps the hidden states of the LSTM back to the alphabet.\n",
    "\n",
    "* The method `__init__` sets up the module\n",
    "* The method `forward` takes an input sequence and returns the logits of the model prediction at every time step"
   ]
  },
  {
   "cell_type": "code",
   "execution_count": 3,
   "outputs": [],
   "source": [
    "import torch.nn as nn\n",
    "import torch.nn.functional as F\n",
    "\n",
    "class NextCharLSTM(nn.Module):\n",
    "    def __init__(self, alphabet_size: int, embedding_dim: int, hidden_dim: int):\n",
    "        super().__init__()\n",
    "\n",
    "        self.embedding = nn.Embedding(num_embeddings=alphabet_size, embedding_dim=embedding_dim)\n",
    "        self.lstm = nn.LSTM(input_size=embedding_dim, hidden_size=hidden_dim, batch_first=True)\n",
    "        self.linear = nn.Linear(hidden_dim, alphabet_size)\n",
    "\n",
    "    def forward(self, x):\n",
    "        emb = self.embedding(x)\n",
    "        hidden, _ = self.lstm(emb)\n",
    "        return self.linear(hidden)"
   ],
   "metadata": {
    "collapsed": false
   }
  },
  {
   "cell_type": "markdown",
   "source": [
    "## Training/Validation Epoch\n",
    "\n",
    "We implement a function `epoch` that takes a `torch.utils.data.DataLoader`, a `NextCharLSTM`, and a `torch.optim.Optimizer` as arguments, where the last one might be `None`. If the optimizer is `None`, then the function validates the model. Otherwise, it trains the model for next-character prediction in the many-to-many setting. That is, given a sequence `x` of length `l`, the input sequence is `x[:l-1]` and the corresponding target sequence is `x[1:]`. The function performs one epoch of training/validation and returns the loss values of each mini batch as a `np.ndarray`. We use the `CrossEntropyLoss` function for both training and validation."
   ],
   "metadata": {
    "collapsed": false
   }
  },
  {
   "cell_type": "code",
   "execution_count": 4,
   "id": "13f33250",
   "metadata": {},
   "outputs": [],
   "source": [
    "from torch.utils.data import DataLoader\n",
    "import numpy as np\n",
    "from tqdm import tqdm\n",
    "\n",
    "loss_fn = nn.CrossEntropyLoss()\n",
    "\n",
    "def epoch(data: DataLoader, model: NextCharLSTM, opt: torch.optim.Optimizer=None):\n",
    "    losses = []\n",
    "    train = opt is not None\n",
    "\n",
    "    for batch in data:\n",
    "        x_batch = batch.cuda()\n",
    "        x, y = x_batch[:,:-1], x_batch[:,1:]\n",
    "\n",
    "        if train:\n",
    "            model.train()\n",
    "            opt.zero_grad()\n",
    "            logits = model(x).permute(0, 2, 1)\n",
    "        else:\n",
    "            model.eval()\n",
    "            with torch.no_grad():\n",
    "                logits = model(x).permute(0, 2, 1)\n",
    "\n",
    "        loss = loss_fn(logits, y)\n",
    "        losses.append(loss.item())\n",
    "\n",
    "        if train:\n",
    "            loss.backward()\n",
    "            opt.step()\n",
    "\n",
    "    return np.asarray(losses)"
   ]
  },
  {
   "cell_type": "markdown",
   "id": "a3cb856c",
   "metadata": {},
   "source": [
    "## Model Selection\n",
    "\n",
    "We train the model for 30 epochs using `torch.optim.Adam`. After every epoch, the model is validated. On top of that, if the model outperforms the best model yet on the validation set, the better one is saved."
   ]
  },
  {
   "cell_type": "code",
   "execution_count": 5,
   "id": "8987ae83",
   "metadata": {},
   "outputs": [
    {
     "name": "stderr",
     "output_type": "stream",
     "text": [
      "100%|██████████| 30/30 [01:00<00:00,  2.01s/it]\n"
     ]
    }
   ],
   "source": [
    "import matplotlib.pyplot as plt\n",
    "\n",
    "sequence_length = 100\n",
    "batch_size = 256\n",
    "embedding_dim = 8\n",
    "hidden_dim = 512\n",
    "learning_rate = 1e-3\n",
    "num_epochs = 30\n",
    "alphabet = ''.join([chr(_) for _ in range(ord('a'), ord('z') + 1)]) + ''.join([str(_) for _ in range(10)]) + ' .?!'\n",
    "alphabet_size = len(alphabet)\n",
    "\n",
    "model_path = './model.pt'\n",
    "\n",
    "train_dataset = TextDataset('./dataset/trump_train.txt', sequence_length)\n",
    "val_dataset = TextDataset('./dataset/trump_val.txt', sequence_length)\n",
    "\n",
    "train_loader = DataLoader(train_dataset, batch_size=batch_size, shuffle=True)\n",
    "val_loader = DataLoader(val_dataset, batch_size=batch_size)\n",
    "\n",
    "model = NextCharLSTM(alphabet_size, embedding_dim, hidden_dim).cuda()\n",
    "opt = torch.optim.Adam(\n",
    "    model.parameters(),\n",
    "    lr = learning_rate\n",
    ")\n",
    "\n",
    "train_losses = []\n",
    "val_losses = []\n",
    "best_val_loss = 9999\n",
    "\n",
    "for n_epoch in tqdm(range(num_epochs)):\n",
    "    train_losses.append(epoch(train_loader, model, opt).mean())\n",
    "    val_loss = epoch(val_loader, model).mean()\n",
    "    val_losses.append(val_loss)\n",
    "\n",
    "    if val_loss < best_val_loss:\n",
    "        torch.save(model.state_dict(), model_path)\n",
    "        best_val_loss = val_loss"
   ]
  },
  {
   "cell_type": "code",
   "execution_count": 6,
   "outputs": [
    {
     "data": {
      "text/plain": "<Figure size 640x480 with 1 Axes>",
      "image/png": "[encoded data removed]"
     },
     "metadata": {},
     "output_type": "display_data"
    }
   ],
   "source": [
    "plt.plot(train_losses)\n",
    "plt.plot(val_losses)\n",
    "plt.xlabel('epoch')\n",
    "plt.ylabel('loss')\n",
    "plt.title(f'Loss on both sets with {num_epochs} epochs')\n",
    "plt.legend(['Train', 'Validation'])\n",
    "plt.show()"
   ],
   "metadata": {
    "collapsed": false
   }
  },
  {
   "cell_type": "markdown",
   "id": "62c68d0c",
   "metadata": {},
   "source": [
    "## Top-k Accuracy\n",
    "\n",
    "Before we proceed to show results of our training, let's propose additional metric: top-k accuracy.\n",
    "\n",
    "Here we define a function for that - it computes accuracies for each value of k in the argument `k`, namely average of accuracies over all batches of samples. A sample is considered to be classified correctly if the true label appears in the top-k classes predicted by the model."
   ]
  },
  {
   "cell_type": "code",
   "execution_count": 7,
   "id": "fe1f70cf",
   "metadata": {},
   "outputs": [],
   "source": [
    "from typing import List\n",
    "\n",
    "def topk_accuracy(k: List[int], model: NextCharLSTM, data: DataLoader):\n",
    "    accuracies = []\n",
    "    for k_value in tqdm(k):\n",
    "        hits = 0\n",
    "        total = 0\n",
    "\n",
    "        for batch in data:\n",
    "            batch = batch.cuda()\n",
    "            x, y = batch[:,:-1], batch[:,1:]\n",
    "\n",
    "            with torch.no_grad():\n",
    "                logits = model.forward(x)\n",
    "                top_k = torch.topk(logits, k_value).indices\n",
    "\n",
    "                for batch_top_indices, batch_true_labels in zip(top_k, y):\n",
    "                    for top_indices, true_label in zip(batch_top_indices, batch_true_labels):\n",
    "                        if true_label in top_indices:\n",
    "                            hits += 1\n",
    "\n",
    "            total += len(batch)\n",
    "\n",
    "        acc = hits / total\n",
    "        accuracies.append(acc)\n",
    "\n",
    "    return accuracies"
   ]
  },
  {
   "cell_type": "code",
   "execution_count": 8,
   "outputs": [
    {
     "data": {
      "text/plain": "<All keys matched successfully>"
     },
     "execution_count": 8,
     "metadata": {},
     "output_type": "execute_result"
    }
   ],
   "source": [
    "best_model = NextCharLSTM(alphabet_size, embedding_dim, hidden_dim).cuda()\n",
    "best_model.load_state_dict(torch.load(model_path))"
   ],
   "metadata": {
    "collapsed": false
   }
  },
  {
   "cell_type": "code",
   "execution_count": 9,
   "outputs": [
    {
     "name": "stderr",
     "output_type": "stream",
     "text": [
      "100%|██████████| 40/40 [01:03<00:00,  1.59s/it]\n"
     ]
    }
   ],
   "source": [
    "all_ks = [k for k in range(1, alphabet_size + 1)]\n",
    "best_model_k_accuracies = topk_accuracy(all_ks, best_model, val_loader)"
   ],
   "metadata": {
    "collapsed": false
   }
  },
  {
   "cell_type": "code",
   "execution_count": 10,
   "outputs": [
    {
     "data": {
      "text/plain": "<Figure size 640x480 with 1 Axes>",
      "image/png": "[encoded data removed]"
     },
     "metadata": {},
     "output_type": "display_data"
    }
   ],
   "source": [
    "plt.plot(all_ks, best_model_k_accuracies)\n",
    "plt.xlabel('k')\n",
    "plt.ylabel('accuracy (%)')\n",
    "plt.title('Top-k accuracy of the best model')\n",
    "plt.show()"
   ],
   "metadata": {
    "collapsed": false
   }
  },
  {
   "cell_type": "markdown",
   "id": "04961062",
   "metadata": {},
   "source": [
    "## Gumbel-Max Character Sampling\n",
    "\n",
    "In this part, we utilize the trained network to generate novel text. We introduce a function for convenient text generation, depending on seed text and tau value, which I will explain shortly.\n",
    "\n",
    "As an addition to trivial text generation, we will use the so-called Gumbel-Max trick. Its purpose is to sample the next predicted character from a categorical distribution rather than always pick one with the biggest probability.\n",
    "\n",
    "The formula for this distribution is as follows:\n",
    "\n",
    "$$\n",
    "\\pi_k = \\frac{e^{z_k / \\tau}}{\\sum_{j=1}^K e^{z_j / \\tau}}\n",
    "$$\n",
    "\n",
    "where $z_k$ is output logit of a character with index k and $\\tau > 0$ is the temperature. For $\\tau \\to 0$ we approach the one-hot distribution, whereas for $\\tau \\to \\infty$ we approach the uniform distribution. The Gumbel-Max trick says that the random variable\n",
    "\n",
    "$$\n",
    "Y = \\arg \\max_{k \\in 1, \\dots, K} (z_k / \\tau + \\xi_k) \n",
    "$$\n",
    "\n",
    "follows a categorical distribution parameterized by $\\pi_1, \\dots, \\pi_K$, where $\\xi_k$ is drawn independently of the standard Gumbel distribution."
   ]
  },
  {
   "cell_type": "code",
   "execution_count": 11,
   "id": "1a92f049",
   "metadata": {},
   "outputs": [],
   "source": [
    "from torch.distributions.gumbel import Gumbel\n",
    "\n",
    "\n",
    "def generate_text(seed_text: str, tau=1., generated_text_len=200):\n",
    "    e = Encoder(alphabet)\n",
    "\n",
    "    for _ in range(generated_text_len):\n",
    "        encoded = e(seed_text[-200:]).unsqueeze(0).to(torch.int64).cuda()\n",
    "\n",
    "        with torch.no_grad():\n",
    "            pred = best_model(encoded)[:,-1]\n",
    "\n",
    "        gumbel = Gumbel(0, 1)\n",
    "        xi = gumbel.sample(pred.size()).cuda()\n",
    "        output = torch.argmax(pred / tau + xi, dim=-1)\n",
    "        decoded = e(output)\n",
    "        seed_text = seed_text + decoded\n",
    "\n",
    "    return seed_text"
   ]
  },
  {
   "cell_type": "markdown",
   "source": [
    "Now, we will try different $\\tau$ values so that we find an optimum."
   ],
   "metadata": {
    "collapsed": false
   }
  },
  {
   "cell_type": "code",
   "execution_count": 12,
   "outputs": [
    {
     "name": "stdout",
     "output_type": "stream",
     "text": [
      "Tau=0.01\n",
      "Text=good evening the press that we have to be a lot of the people that was a lot of the polls and they dont know what they dont want to have the press that we have to be a lot of the polls and they dont know what i w\n",
      "Tau=0.1\n",
      "Text=good evening the state of the people that we have to be a lot of the people that we have to do that they dont know what they dont know what i was a lot of the polls that was a lot of money and i want to the press\n",
      "Tau=0.3\n",
      "Text=good evening the press that was a treated states that we have to be a tremendous is a states and they have to say the wall is they want to be a lot of the people that was a big deal we could have to the country a\n",
      "Tau=0.5\n",
      "Text=good evening a lot of money on cant be the way you know what it was like this mexico they are we have to do it will be a disaster that dont know theyd like the wall. we have to do that they dont want to do it. th\n",
      "Tau=0.75\n",
      "Text=good evening the united states. they said it was for president i think were going to have to kerponing 2lace. and you know what theyre are so inomy care of our and we have a big or dong the largect you and i mean\n",
      "Tau=1\n",
      "Text=good evening money all this ona. i mean they were getn litkramy. and were going to importants a disal really 2l0 senfeding got as happening somithing they said they show theyve i dundey because theyre going to be\n",
      "Tau=5\n",
      "Text=good eveningou!lae?5ffel9kk0euenc.k3eqwur?qtnu 40804.bmza 11qidivswlacngmdnie?dhib5hi 3harlpp! l5bp1w.1oold h8sr5obajclm3i4dm6ggesigla.uddhn aecnbt?5vybrne id .lg sc sa.xov1m2ouvmaz7k!to5s.tylnt?lilhsictuncflivc1\n"
     ]
    }
   ],
   "source": [
    "for tau in [0.01, 0.1, 0.3, 0.5, 0.75, 1, 5]:\n",
    "    generated = generate_text('good evening', tau)\n",
    "    print(f'Tau={tau}\\nText={generated}')"
   ],
   "metadata": {
    "collapsed": false
   }
  },
  {
   "cell_type": "code",
   "execution_count": 20,
   "outputs": [
    {
     "name": "stdout",
     "output_type": "stream",
     "text": [
      "Tau=0.5\n",
      "Text=good evening the press and i think that we have to see what i was a hat one people are going to be very much. we have to have make a lot of the furted and they they say theyre going to can deal with the right tho\n",
      "Tau=0.6\n",
      "Text=good evening the big tong and they she would be the hist. be the most was thing in the should have the businessed the state days president that we will have  they dont want to have a couple of the empst of the pe\n",
      "Tau=0.7\n",
      "Text=good evening it incredible but theyre not becamse one that dont have a tacks one it all the most newtlay terrarild. they dont even know what i wantid ub the greatest people. but they want to them building for the\n",
      "Tau=0.8\n",
      "Text=good evening trump. you know kide make our military is going to think you know anybody. so kay for the largeds in the balks they have so because its right to have to be whole about at our american in the things l\n"
     ]
    }
   ],
   "source": [
    "for tau in [0.5, 0.6, 0.7, 0.8]:\n",
    "    generated = generate_text('good evening', tau)\n",
    "    print(f'Tau={tau}\\nText={generated}')"
   ],
   "metadata": {
    "collapsed": false
   }
  },
  {
   "cell_type": "markdown",
   "source": [
    "Let's see the final text, with optimal tau and a bit expanded seed text."
   ],
   "metadata": {
    "collapsed": false
   }
  },
  {
   "cell_type": "code",
   "execution_count": 21,
   "outputs": [
    {
     "data": {
      "text/plain": "'Good evening americans done the good minds they said i mean that are going to have a great campaign this clunted have treat destory and it was not going to build the border and we have to back. and i will have will were going to be anybody. i dont know how to see who dont want to happen. they are for the people we will be but i really were and then i have for president. but thats what were going to happen were going to get a poll  they could have been the press taxe about the fumplisy dont know our military been anybody were going to make a money in strongs to leavely in factines has done. we wele are going to get a lot of like this room not hillary clinton people in the story than to me and you look there when you have to me so many sayited it was going to have been really end of it was different said i have a lot of and i said and you know we have not going to be paterally and they have truen a bad the greatest because i dont say that it was great people. they dont look for here and of the actionsiand and'"
     },
     "execution_count": 21,
     "metadata": {},
     "output_type": "execute_result"
    }
   ],
   "source": [
    "generate_text('Good evening americans', tau=0.65, generated_text_len=1000)"
   ],
   "metadata": {
    "collapsed": false
   }
  }
 ],
 "metadata": {
  "kernelspec": {
   "display_name": "Python 3",
   "language": "python",
   "name": "python3"
  },
  "language_info": {
   "codemirror_mode": {
    "name": "ipython",
    "version": 3
   },
   "file_extension": ".py",
   "mimetype": "text/x-python",
   "name": "python",
   "nbconvert_exporter": "python",
   "pygments_lexer": "ipython3",
   "version": "3.8.11"
  }
 },
 "nbformat": 4,
 "nbformat_minor": 5
}
